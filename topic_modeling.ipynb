{
 "cells": [
  {
   "cell_type": "code",
   "execution_count": 2,
   "metadata": {},
   "outputs": [],
   "source": [
    "import pandas as pd\n",
    "import numpy as np\n",
    "import matplotlib\n",
    "import matplotlib.pyplot as plt\n",
    "import pickle\n",
    "import spacy\n",
    "from collections import Counter\n",
    "from scipy.spatial.distance import cosine\n",
    "from sklearn.decomposition import PCA\n",
    "\n",
    "from sklearn.feature_extraction.text import TfidfVectorizer, CountVectorizer\n",
    "from sklearn.decomposition import NMF, LatentDirichletAllocation\n",
    "\n",
    "# custom imports\n",
    "from LanguageTools.spacy_utils import DocumentCleaner\n",
    "from LanguageTools.topic_modeling import print_topic_top_words, pca_plot_3axes\n",
    "from engineer_features import assemble_corpus\n",
    "\n",
    "font = {'weight' : 'normal',\n",
    "        'size'   : 16}\n",
    "\n",
    "matplotlib.rc('font', **font)"
   ]
  },
  {
   "cell_type": "markdown",
   "metadata": {},
   "source": [
    "## text preprocessing\n",
    "- tokenize:\n",
    "\n",
    "       - remove stop words\n",
    "       - lemmatize\n",
    "       - remove punctuation"
   ]
  },
  {
   "cell_type": "markdown",
   "metadata": {},
   "source": [
    "## load tokenized lemmatized data --> corpus of documents"
   ]
  },
  {
   "cell_type": "code",
   "execution_count": 3,
   "metadata": {},
   "outputs": [
    {
     "data": {
      "text/html": [
       "<div>\n",
       "<style scoped>\n",
       "    .dataframe tbody tr th:only-of-type {\n",
       "        vertical-align: middle;\n",
       "    }\n",
       "\n",
       "    .dataframe tbody tr th {\n",
       "        vertical-align: top;\n",
       "    }\n",
       "\n",
       "    .dataframe thead th {\n",
       "        text-align: right;\n",
       "    }\n",
       "</style>\n",
       "<table border=\"1\" class=\"dataframe\">\n",
       "  <thead>\n",
       "    <tr style=\"text-align: right;\">\n",
       "      <th></th>\n",
       "      <th>book_author</th>\n",
       "      <th>book_name</th>\n",
       "      <th>chapter</th>\n",
       "      <th>chapter_name</th>\n",
       "      <th>extracted_text</th>\n",
       "      <th>tokens</th>\n",
       "    </tr>\n",
       "  </thead>\n",
       "  <tbody>\n",
       "    <tr>\n",
       "      <th>0</th>\n",
       "      <td>J.K. Rowling</td>\n",
       "      <td>Harry Potter and the Chamber of Secrets</td>\n",
       "      <td>1</td>\n",
       "      <td>The Worst Birthday</td>\n",
       "      <td>1. THE WORST BIRTHDAY  Not for the first time,...</td>\n",
       "      <td>[worst, birthday, time, argument, break, break...</td>\n",
       "    </tr>\n",
       "    <tr>\n",
       "      <th>1</th>\n",
       "      <td>J.K. Rowling</td>\n",
       "      <td>Harry Potter and the Chamber of Secrets</td>\n",
       "      <td>2</td>\n",
       "      <td>Dobbys Warning</td>\n",
       "      <td>2. DOBBY’S WARNING  Harry managed not to shout...</td>\n",
       "      <td>[dobby, warning, harry, manage, shout, close, ...</td>\n",
       "    </tr>\n",
       "    <tr>\n",
       "      <th>2</th>\n",
       "      <td>J.K. Rowling</td>\n",
       "      <td>Harry Potter and the Chamber of Secrets</td>\n",
       "      <td>3</td>\n",
       "      <td>The Burrow</td>\n",
       "      <td>3. THE BURROW  “Ron,” breathed Harry, creeping...</td>\n",
       "      <td>[burrow, ron, breathe, harry, creep, window, p...</td>\n",
       "    </tr>\n",
       "    <tr>\n",
       "      <th>3</th>\n",
       "      <td>J.K. Rowling</td>\n",
       "      <td>Harry Potter and the Chamber of Secrets</td>\n",
       "      <td>4</td>\n",
       "      <td>At Flourish and Blotts</td>\n",
       "      <td>4. AT FLOURISH AND BLOTTS  Life at the Burrow ...</td>\n",
       "      <td>[flourish, blotts, life, burrow, different, po...</td>\n",
       "    </tr>\n",
       "    <tr>\n",
       "      <th>4</th>\n",
       "      <td>J.K. Rowling</td>\n",
       "      <td>Harry Potter and the Chamber of Secrets</td>\n",
       "      <td>5</td>\n",
       "      <td>The Whomping Willow</td>\n",
       "      <td>5. THE WHOMPING WILLOW  The end of the summer ...</td>\n",
       "      <td>[whomping, willow, end, summer, vacation, come...</td>\n",
       "    </tr>\n",
       "  </tbody>\n",
       "</table>\n",
       "</div>"
      ],
      "text/plain": [
       "    book_author                                book_name  chapter  \\\n",
       "0  J.K. Rowling  Harry Potter and the Chamber of Secrets        1   \n",
       "1  J.K. Rowling  Harry Potter and the Chamber of Secrets        2   \n",
       "2  J.K. Rowling  Harry Potter and the Chamber of Secrets        3   \n",
       "3  J.K. Rowling  Harry Potter and the Chamber of Secrets        4   \n",
       "4  J.K. Rowling  Harry Potter and the Chamber of Secrets        5   \n",
       "\n",
       "             chapter_name                                     extracted_text  \\\n",
       "0      The Worst Birthday  1. THE WORST BIRTHDAY  Not for the first time,...   \n",
       "1          Dobbys Warning  2. DOBBY’S WARNING  Harry managed not to shout...   \n",
       "2              The Burrow  3. THE BURROW  “Ron,” breathed Harry, creeping...   \n",
       "3  At Flourish and Blotts  4. AT FLOURISH AND BLOTTS  Life at the Burrow ...   \n",
       "4     The Whomping Willow  5. THE WHOMPING WILLOW  The end of the summer ...   \n",
       "\n",
       "                                              tokens  \n",
       "0  [worst, birthday, time, argument, break, break...  \n",
       "1  [dobby, warning, harry, manage, shout, close, ...  \n",
       "2  [burrow, ron, breathe, harry, creep, window, p...  \n",
       "3  [flourish, blotts, life, burrow, different, po...  \n",
       "4  [whomping, willow, end, summer, vacation, come...  "
      ]
     },
     "execution_count": 3,
     "metadata": {},
     "output_type": "execute_result"
    }
   ],
   "source": [
    "with open('pkl/data_clean_5.pkl', 'rb') as f:\n",
    "    data = pickle.load(f)\n",
    "\n",
    "corpus, corpus_tokenized = assemble_corpus(data)\n",
    "data.head()"
   ]
  },
  {
   "cell_type": "markdown",
   "metadata": {},
   "source": [
    "### manual filter (running out to time to fix downstream)"
   ]
  },
  {
   "cell_type": "code",
   "execution_count": 4,
   "metadata": {},
   "outputs": [],
   "source": [
    "do_filter = False\n",
    "if do_filter:\n",
    "    rm_terms = [' ll ',' pron ',' yer ',' ve ',' don ']\n",
    "\n",
    "    corpus_clean = []\n",
    "    for doc in corpus:\n",
    "        for term in rm_terms:\n",
    "            doc_ = doc.replace(term, '')\n",
    "        corpus_clean.append(doc_)\n",
    "    corpus = corpus_clean\n"
   ]
  },
  {
   "cell_type": "markdown",
   "metadata": {},
   "source": [
    "## create tf-idf and tf matrices"
   ]
  },
  {
   "cell_type": "code",
   "execution_count": 5,
   "metadata": {},
   "outputs": [
    {
     "name": "stdout",
     "output_type": "stream",
     "text": [
      "bag-of-words matrix dimensions: 198 documents x 1000 words\n"
     ]
    }
   ],
   "source": [
    "n_features = 1000\n",
    "\n",
    "tfidf_vectorizer = TfidfVectorizer(max_df=0.95, min_df=2, max_features=n_features, stop_words='english')\n",
    "tfidf = tfidf_vectorizer.fit_transform(corpus)\n",
    "tfidf_feat_names = tfidf_vectorizer.get_feature_names()\n",
    "\n",
    "tf_vectorizer = CountVectorizer(max_df=0.95, min_df=2, max_features=n_features, stop_words='english')\n",
    "tf = tf_vectorizer.fit_transform(corpus)\n",
    "tf_feat_names = tf_vectorizer.get_feature_names()\n",
    "\n",
    "print('bag-of-words matrix dimensions: {} documents x {} words'.format(tf.shape[0], tf.shape[1]))"
   ]
  },
  {
   "cell_type": "markdown",
   "metadata": {},
   "source": [
    "## W (doc to topics) and H (topics to words) matrices for NMF and LDA"
   ]
  },
  {
   "cell_type": "code",
   "execution_count": 6,
   "metadata": {},
   "outputs": [
    {
     "name": "stdout",
     "output_type": "stream",
     "text": [
      "NMF W dimensions: 198 documents x 10 topics\n",
      "NMF H dimensions: 10 topics x 1000 words\n",
      "\n",
      "LDA W dimensions: 198 documents x 10 topics\n",
      "LDA H dimensions: 10 topics x 1000 words\n"
     ]
    }
   ],
   "source": [
    "# nmf W and H\n",
    "n_topics = 10\n",
    "\n",
    "nmf = NMF(n_components=n_topics, random_state=1, alpha=.1, l1_ratio=.5, init='nndsvd').fit(tfidf)\n",
    "nmf_W = nmf.transform(tfidf)\n",
    "nmf_H = nmf.components_\n",
    "print('NMF W dimensions: {} documents x {} topics'.format(nmf_W.shape[0], nmf_W.shape[1]))\n",
    "print('NMF H dimensions: {} topics x {} words'.format(nmf_H.shape[0], nmf_H.shape[1]))\n",
    "\n",
    "# lda topics\n",
    "lda = LatentDirichletAllocation(n_components=n_topics, max_iter=5, learning_method='online', learning_offset=50.,random_state=0).fit(tf)\n",
    "lda_W = lda.transform(tf)\n",
    "lda_H = lda.components_\n",
    "print('\\nLDA W dimensions: {} documents x {} topics'.format(lda_W.shape[0], lda_W.shape[1]))\n",
    "print('LDA H dimensions: {} topics x {} words'.format(lda_H.shape[0], lda_H.shape[1]))"
   ]
  },
  {
   "cell_type": "markdown",
   "metadata": {},
   "source": [
    "## top n words in topics determined by NMF and LDA models"
   ]
  },
  {
   "cell_type": "code",
   "execution_count": 7,
   "metadata": {},
   "outputs": [
    {
     "name": "stdout",
     "output_type": "stream",
     "text": [
      "\n",
      "Topics in corpus, LDA model:\n",
      "topic 0: yes dark little riddle professor malfoy ron voldemort hermione wand\n",
      "topic 1: boy house door room letter dursleys petunia aunt dudley uncle\n",
      "topic 2: room lupin wand door malfoy dumbledore snape hagrid professor hermione\n",
      "topic 3: horcrux soul sword hermione greyback tom diary ron voldemort dumbledore\n",
      "topic 4: hope magic moment man wand dumbledore voldemort scrimgeour fudge prime\n",
      "topic 5: winky elf dumbledore room moody snape potter sir hermione dobby\n",
      "topic 6: vernon voldemort snape dumbledore dudley room dark uncle ron hermione\n",
      "topic 7: wizard door dark professor voldemort wand snape ron sirius hermione\n",
      "topic 8: wand hogwarts wizard door george dumbledore fred hagrid hermione weasley\n",
      "topic 9: student hall goblet maxime champion professor madame karkaroff hermione dumbledore\n",
      "\n",
      "\n",
      "Topics in corpus, NMF model:\n",
      "topic 0: ginny fred mcgonagall room door neville umbridge malfoy professor hermione\n",
      "topic 1: man yes slughorn tom albus kreacher fudge sirius voldemort riddle\n",
      "topic 2: birthday owl car letter dursley dursleys aunt petunia uncle dudley\n",
      "topic 3: wizard kitchen charlie ron arthur ginny percy sirius george fred\n",
      "topic 4: tonk werewolf james professor crookshanks dementors scabbers sirius black pettigrew\n",
      "topic 5: buckbeak quirrell cabin pron forest giant don dragon yeh fang\n",
      "topic 6: task winky madame maxime krum crouch champion karkaroff cedric bagman\n",
      "topic 7: master diary parvati lockhart krum bludger potter elf winky sir\n",
      "topic 8: filch dark potion professor malfoy severus lord lily potter sirius\n",
      "topic 9: light eater body snake lord bellatrix eaters death wormtail wand\n",
      "\n"
     ]
    }
   ],
   "source": [
    "n_top_words = 10\n",
    "models = [lda, nmf]\n",
    "labels = ['LDA', 'NMF']\n",
    "top_words = {}\n",
    "for model, label in zip(models, labels):\n",
    "    print(f\"\\nTopics in corpus, {label} model:\")\n",
    "    words = print_topic_top_words(model, tfidf_feat_names, n_top_words)\n",
    "    top_words[label] = words"
   ]
  },
  {
   "cell_type": "markdown",
   "metadata": {},
   "source": [
    "## Which topics are the most distinct? \n",
    "    - these topics are kind of gobbledy-gook, it would be nice to narrow the selection down to the topics that are most distict\n",
    "    - topics are rows of the H matrix\n",
    "    - assess pairwise cosine distance\n",
    "### reduce dimensionality\n",
    "    - computing distance metrics on the H matrix suffers from the curse of dimensionality: distances in 1000 dimensions become intractably large and comparisons are distorted\n",
    "    - use PCA to reduce the dimensionality of the topic-to-word matrix\n",
    "        - choose number of components\n",
    "    - compare cosine distance on this reduced matrix\n",
    "    - find the topics that are most unique"
   ]
  },
  {
   "cell_type": "code",
   "execution_count": 8,
   "metadata": {},
   "outputs": [],
   "source": [
    "def cosine_distance_matrix(X, axis=1):\n",
    "    '''\n",
    "    param\n",
    "    -----\n",
    "    X numpy array\n",
    "    axis int\n",
    "    '''\n",
    "    if axis==0:\n",
    "        X = X.T\n",
    "    n = X.shape[0]\n",
    "    arr = np.zeros((n,n))\n",
    "    for i in range(n):\n",
    "        for j in range(n):\n",
    "            dist = cosine(X[i,:],X[j,:])\n",
    "            arr[i,j] = dist\n",
    "    return arr"
   ]
  },
  {
   "cell_type": "markdown",
   "metadata": {},
   "source": [
    "### choose number of components"
   ]
  },
  {
   "cell_type": "code",
   "execution_count": 9,
   "metadata": {},
   "outputs": [
    {
     "data": {
      "image/png": "[encoded data removed]",
      "text/plain": [
       "<Figure size 432x288 with 1 Axes>"
      ]
     },
     "metadata": {
      "needs_background": "light"
     },
     "output_type": "display_data"
    },
    {
     "data": {
      "image/png": "[encoded data removed]",
      "text/plain": [
       "<Figure size 432x288 with 1 Axes>"
      ]
     },
     "metadata": {
      "needs_background": "light"
     },
     "output_type": "display_data"
    }
   ],
   "source": [
    "font = {'weight' : 'normal',\n",
    "        'size'   : 16}\n",
    "\n",
    "matplotlib.rc('font', **font)\n",
    "\n",
    "arrs = [lda_H, nmf_H]\n",
    "labels = ['LDA', 'NMF']\n",
    "for arr, label in zip(arrs, labels):\n",
    "    # fit PCA\n",
    "    pca = PCA(n_components=10)\n",
    "    pca.fit(arr)\n",
    "    # plot cumulative explained variance\n",
    "    fig = plt.figure()\n",
    "    plt.plot(np.cumsum(pca.explained_variance_ratio_),'--o',color='k')\n",
    "    plt.title(f'Explained variance: {label} topics')\n",
    "    plt.xlabel('Number of Components')\n",
    "    plt.ylabel('Variance (%)')\n",
    "    plt.tight_layout()\n",
    "    #plt.savefig(f'figures/pca_{label}_kw30.png',dpi=300)\n",
    "    "
   ]
  },
  {
   "cell_type": "markdown",
   "metadata": {},
   "source": [
    "### n components chosen by inspecting cumulative explained variance curves\n",
    "    - LDA: 3 components\n",
    "    - NMF: 8 components"
   ]
  },
  {
   "cell_type": "markdown",
   "metadata": {},
   "source": [
    "### visually inspect components in reduced dimensions\n",
    "__LDA:__"
   ]
  },
  {
   "cell_type": "code",
   "execution_count": 10,
   "metadata": {},
   "outputs": [
    {
     "data": {
      "image/png": "[encoded data removed]",
      "text/plain": [
       "<Figure size 864x288 with 3 Axes>"
      ]
     },
     "metadata": {
      "needs_background": "light"
     },
     "output_type": "display_data"
    }
   ],
   "source": [
    "pca = PCA(n_components=3)\n",
    "topics_pca = pca.fit_transform(lda_H)\n",
    "\n",
    "pca_plot_3axes(topics_pca, savefig=False, filename='figures/pca_topics_lda_kw30.png')"
   ]
  },
  {
   "cell_type": "markdown",
   "metadata": {},
   "source": [
    "__NMF__:\n",
    " - there are 28 combinations of 8 choose 2\n",
    " - just plot the first several\n",
    " - assess quantitatively"
   ]
  },
  {
   "cell_type": "code",
   "execution_count": 11,
   "metadata": {},
   "outputs": [
    {
     "name": "stdout",
     "output_type": "stream",
     "text": [
      "28 combinations\n"
     ]
    }
   ],
   "source": [
    "# number of combinations\n",
    "def nCr(n,r):\n",
    "    from math import factorial\n",
    "    return int((factorial(n)/ (factorial(r) * factorial(n-r))))\n",
    "            \n",
    "print(f'{nCr(8,2)} combinations')"
   ]
  },
  {
   "cell_type": "markdown",
   "metadata": {},
   "source": [
    "__get combinations with lowest 3 components__"
   ]
  },
  {
   "cell_type": "code",
   "execution_count": 12,
   "metadata": {},
   "outputs": [],
   "source": [
    "from itertools import combinations\n",
    "cc = combinations(range(8),2)\n",
    "cc_low3 = [x for x in cc if x[0] <= 3 and x[1] <= 3]"
   ]
  },
  {
   "cell_type": "code",
   "execution_count": 13,
   "metadata": {},
   "outputs": [
    {
     "data": {
      "image/png": "[encoded data removed]",
      "text/plain": [
       "<Figure size 864x432 with 6 Axes>"
      ]
     },
     "metadata": {
      "needs_background": "light"
     },
     "output_type": "display_data"
    }
   ],
   "source": [
    "pca = PCA(n_components=8)\n",
    "topics_pca = pca.fit_transform(nmf_H)\n",
    "\n",
    "# pca plot\n",
    "fig, axs_ = plt.subplots(2,3, figsize=(12,6))\n",
    "axs = axs_.flatten()\n",
    "ax_ii = cc_low3\n",
    "for ax, ii in zip(axs, ax_ii):\n",
    "    xx = topics_pca[:,ii[0]]\n",
    "    yy = topics_pca[:,ii[1]]\n",
    "    labels = range(len(xx))\n",
    "\n",
    "    ax.scatter(xx, yy, s=2)\n",
    "    for i, x in enumerate(labels):\n",
    "        ax.text(xx[i], yy[i], x, size=20)\n",
    "\n",
    "    ax.set_xlabel(f'p.c. {ii[0]+1}')\n",
    "    ax.set_ylabel(f'p.c. {ii[1]+1}')\n",
    "\n",
    "plt.tight_layout()\n",
    "#plt.savefig('figures/pca_topics_nmf_kw30.png', dpi=300)\n"
   ]
  },
  {
   "cell_type": "markdown",
   "metadata": {},
   "source": [
    "### Unique topics identified by PCA\n",
    "    - visually:\n",
    "        - LDA: [8,7,2,5,others]\n",
    "        - NMF: [8,0,5,2,others] (hard to tell graphically, 8 components)\n",
    "    - computed with cosine distance, ranked descending (computed below):\n",
    "        - LDA: [2 8 7 5 6 9 0 4 1 3]\n",
    "        - NMF: [5 0 8 2 3 4 7 6 1 9]\n",
    "    - sanity check: the top 3-4 computed topics are also graphically most unique (per method)"
   ]
  },
  {
   "cell_type": "code",
   "execution_count": 14,
   "metadata": {},
   "outputs": [
    {
     "data": {
      "image/png": "[encoded data removed]",
      "text/plain": [
       "<Figure size 576x288 with 4 Axes>"
      ]
     },
     "metadata": {
      "needs_background": "light"
     },
     "output_type": "display_data"
    }
   ],
   "source": [
    "arrs = [lda_H, nmf_H]\n",
    "labels = ['LDA', 'NMF']\n",
    "nn = [3, 8]\n",
    "clims = [(0,2),(0.5,1.5)]\n",
    "n_topics = 10\n",
    "from mpl_toolkits.axes_grid1 import make_axes_locatable\n",
    "fig, axs = plt.subplots(1,2, figsize=(8,4))\n",
    "\n",
    "unique_topics_sorted = {}\n",
    "for arr, label, n, ax, clim in zip(arrs, labels, nn, axs, clims):\n",
    "\n",
    "    pca = PCA(n_components=n)\n",
    "    topics_pca = pca.fit_transform(arr)\n",
    "    arr_dist = cosine_distance_matrix(topics_pca)\n",
    "    \n",
    "    # calc most different topics\n",
    "    sum_difference = np.sum(arr_dist, axis=1)\n",
    "    unique_topics = np.argsort(sum_difference)\n",
    "    unique_topics_sorted[label] = np.flipud(unique_topics) # arr is ascending\n",
    "    \n",
    "    # plot \n",
    "    divider = make_axes_locatable(ax)\n",
    "    cax = divider.append_axes('right', size='5%', pad=0.05)\n",
    "    im = ax.imshow(arr_dist)\n",
    "    ax.set_title(f'cos difference {label} topics')\n",
    "    ax.set_xticks(range(n_topics));\n",
    "    ax.set_yticks(range(n_topics));\n",
    "    cbar = fig.colorbar(im, cax=cax, orientation='vertical')\n",
    "    \n",
    "plt.tight_layout()\n",
    "#plt.savefig('figures/pca_cos_distance_kw30.png', dpi=300)"
   ]
  },
  {
   "cell_type": "code",
   "execution_count": 15,
   "metadata": {},
   "outputs": [
    {
     "name": "stdout",
     "output_type": "stream",
     "text": [
      "topics ranked by uniqueness:\n",
      "LDA: [2 8 7 5 6 9 0 4 1 3]\n",
      "NMF: [5 0 8 2 3 4 7 6 1 9]\n"
     ]
    }
   ],
   "source": [
    "print('topics ranked by uniqueness:')\n",
    "for k,v in unique_topics_sorted.items():\n",
    "    print(f'{k}: {v}')\n"
   ]
  },
  {
   "cell_type": "markdown",
   "metadata": {},
   "source": [
    "## look at the most unique topics: top 4 + 10 most common terms in other 6"
   ]
  },
  {
   "cell_type": "code",
   "execution_count": 16,
   "metadata": {},
   "outputs": [
    {
     "name": "stdout",
     "output_type": "stream",
     "text": [
      "LDA top 4 topics:\n",
      "2: ['room', 'lupin', 'wand', 'door', 'malfoy', 'dumbledore', 'snape', 'hagrid', 'professor', 'hermione']\n",
      "8: ['wand', 'hogwarts', 'wizard', 'door', 'george', 'dumbledore', 'fred', 'hagrid', 'hermione', 'weasley']\n",
      "7: ['wizard', 'door', 'dark', 'professor', 'voldemort', 'wand', 'snape', 'ron', 'sirius', 'hermione']\n",
      "5: ['winky', 'elf', 'dumbledore', 'room', 'moody', 'snape', 'potter', 'sir', 'hermione', 'dobby']\n",
      "\n",
      "LDA most common words in other topics:\n",
      "['voldemort', 'hermione', 'dumbledore', 'ron', 'dark', 'professor', 'wand', 'room', 'dudley', 'uncle']\n",
      "\n",
      "NMF top 4 topics:\n",
      "5: ['buckbeak', 'quirrell', 'cabin', 'pron', 'forest', 'giant', 'don', 'dragon', 'yeh', 'fang']\n",
      "0: ['ginny', 'fred', 'mcgonagall', 'room', 'door', 'neville', 'umbridge', 'malfoy', 'professor', 'hermione']\n",
      "8: ['filch', 'dark', 'potion', 'professor', 'malfoy', 'severus', 'lord', 'lily', 'potter', 'sirius']\n",
      "2: ['birthday', 'owl', 'car', 'letter', 'dursley', 'dursleys', 'aunt', 'petunia', 'uncle', 'dudley']\n",
      "\n",
      "NMF most common words in other topics:\n",
      "['sirius', 'winky', 'krum', 'man', 'yes', 'slughorn', 'tom', 'albus', 'kreacher', 'fudge']\n",
      "\n"
     ]
    }
   ],
   "source": [
    "top_n = 4\n",
    "others = []\n",
    "for label in labels:\n",
    "    print(f'{label} top {top_n} topics:')\n",
    "    ww = top_words[label]\n",
    "    # print top 4 topics\n",
    "    ii_top = unique_topics_sorted[label][:top_n]\n",
    "    [print(f'{i}: {ww[i]}') for i in ii_top]\n",
    "    # print 'average' of other topics\n",
    "    print(f'\\n{label} most common words in other topics:')\n",
    "    ii_other = list(set(unique_topics_sorted[label]) ^ set(ii_top))\n",
    "    other_l = [ww[i] for i in ii_other]\n",
    "    other = [x for sub in other_l for x in sub]\n",
    "    others.append(other)\n",
    "    c = Counter(other).most_common(10)\n",
    "    other_10 = [x[0] for x in c]\n",
    "    print(other_10)\n",
    "\n",
    "    print()"
   ]
  },
  {
   "cell_type": "markdown",
   "metadata": {},
   "source": [
    "## subjective analysis of algorithmically selected topics\n",
    "    - up to the this point the entire language processing workflow has been automated\n",
    "    - at this point I'm going to try to make sense of the selected topics\n",
    "   \n",
    "    "
   ]
  },
  {
   "cell_type": "markdown",
   "metadata": {},
   "source": [
    "## Final topic selection\n",
    "\n",
    "__Topics in corpus, LDA model (bold = algorithmically determined to be unique):__\n",
    "- topic 0: yes dark little riddle professor malfoy ron voldemort hermione wand\n",
    "- topic 1: boy house door room letter dursleys petunia aunt dudley uncle\n",
    "- __topic 2: room lupin wand door malfoy dumbledore snape hagrid professor hermione__\n",
    "- topic 3: horcrux soul sword hermione greyback tom diary ron voldemort dumbledore\n",
    "- topic 4: hope magic moment man wand dumbledore voldemort scrimgeour fudge prime\n",
    "- __topic 5: winky elf dumbledore room moody snape potter sir hermione dobby__\n",
    "- topic 6: vernon voldemort snape dumbledore dudley room dark uncle ron hermione\n",
    "- __topic 7: wizard door dark professor voldemort wand snape ron sirius hermione__\n",
    "- __topic 8: wand hogwarts wizard door george dumbledore fred hagrid hermione weasley__\n",
    "- topic 9: student hall goblet maxime champion professor madame karkaroff hermione dumbledore\n",
    "\n",
    "__Topics in corpus, NMF model:__\n",
    "- __topic 0: ginny fred mcgonagall room door neville umbridge malfoy professor hermione__\n",
    "- topic 1: man yes slughorn tom albus kreacher fudge sirius voldemort riddle\n",
    "- __topic 2: birthday owl car letter dursley dursleys aunt petunia uncle dudley__\n",
    "- topic 3: wizard kitchen charlie ron arthur ginny percy sirius george fred\n",
    "- topic 4: tonk werewolf james professor crookshanks dementors scabbers sirius black pettigrew\n",
    "- __topic 5: buckbeak quirrell cabin pron forest giant don dragon yeh fang__\n",
    "- topic 6: task winky madame maxime krum crouch champion karkaroff cedric bagman\n",
    "- topic 7: master diary parvati lockhart krum bludger potter elf winky sir\n",
    "- __topic 8: filch dark potion professor malfoy severus lord lily potter sirius__\n",
    "- topic 9: light eater body snake lord bellatrix eaters death wormtail wand\n",
    "\n",
    "The algorithmic selection of most unique topics is alright. Some are useful, some less so. For this dataset, it's curious that the NMF model only found 6 distinct topics; 7-9 are indentical (and useless). I think it's reasonable that at this level in the project it's OK for a human to review the automatically-generated options. It's interesting to note that the NMF and LDA algorithms are very sensitive to small changes to the data. For example, these topics were discovered by a prior run, without a few erroneous words removed (e.g. 'yeh', 'pron'):\n",
    "\n",
    "\n",
    "__interesting topics from prior run:__\n",
    "- NMF topic 2b: bark muggles parent holiday owl hedwig bedroom dursleys drive uncle (muggles and london)\n",
    "\n",
    "### My top topics:\n",
    "- LDA topic 7: wizard door dark professor voldemort wand snape ron sirius hermione (central theme)\n",
    "- LDA topic 3: horcrux soul sword hermione greyback tom diary ron voldemort dumbledore (almost a specific chapter)\n",
    "- NMF topic 9: light eater body snake lord bellatrix eaters death wormtail wand    (dark theme, slytherin things)\n",
    "- NMF topic 8: filch dark potion professor malfoy severus lord lily potter sirius (dark, Harry's parents, Sirius)\n",
    "- LDA topic 8: wand hogwarts wizard door george dumbledore fred hagrid hermione weasley (central theme, light)\n",
    "- NMF topic 5: buckbeak quirrell cabin pron forest giant don dragon yeh fang       (animals, forest)\n",
    "- NMF topic 2: birthday owl car letter dursley dursleys aunt petunia uncle dudley  (home front)\n",
    "\n"
   ]
  },
  {
   "cell_type": "code",
   "execution_count": null,
   "metadata": {},
   "outputs": [],
   "source": []
  }
 ],
 "metadata": {
  "kernelspec": {
   "display_name": "Python 3",
   "language": "python",
   "name": "python3"
  },
  "language_info": {
   "codemirror_mode": {
    "name": "ipython",
    "version": 3
   },
   "file_extension": ".py",
   "mimetype": "text/x-python",
   "name": "python",
   "nbconvert_exporter": "python",
   "pygments_lexer": "ipython3",
   "version": "3.7.3"
  }
 },
 "nbformat": 4,
 "nbformat_minor": 2
}
